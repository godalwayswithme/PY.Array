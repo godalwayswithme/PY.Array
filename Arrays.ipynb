{
 "cells": [
  {
   "cell_type": "code",
   "execution_count": null,
   "id": "18fbe5bc-5ef1-40b7-a7cf-64dabefa1b29",
   "metadata": {},
   "outputs": [],
   "source": [
    "Arrays.py"
   ]
  },
  {
   "cell_type": "code",
   "execution_count": null,
   "id": "b8fbf55c-2d5a-49bb-9768-7ebca26a2eed",
   "metadata": {},
   "outputs": [],
   "source": [
    "1. Check if the array contains any duplicates:"
   ]
  },
  {
   "cell_type": "code",
   "execution_count": null,
   "id": "71a6a2b3-c051-45d8-9b12-2725ecad291a",
   "metadata": {},
   "outputs": [],
   "source": [
    "def has_duplicates(arr):\n",
    "    return len(arr) != len(set(arr))\n",
    "\n",
    "arr = [1, 2, 4, 2, 5, 9]\n",
    "print(has_duplicates(arr))  # Output: True\n"
   ]
  },
  {
   "cell_type": "code",
   "execution_count": null,
   "id": "6d67db9e-6dfa-41c9-8377-982ff4575ca5",
   "metadata": {},
   "outputs": [],
   "source": [
    "2. Rotate the array to the right by k steps:"
   ]
  },
  {
   "cell_type": "code",
   "execution_count": null,
   "id": "0779e307-1fe7-4684-9a35-56d84e0c8c7b",
   "metadata": {},
   "outputs": [],
   "source": [
    "def rotate_right(arr, k):\n",
    "    k = k % len(arr)  # To handle cases where k > len(arr)\n",
    "    return arr[-k:] + arr[:-k]\n",
    "\n",
    "arr = [1, 2, 3, 4, 5, 6, 7]\n",
    "k = 3\n",
    "print(rotate_right(arr, k))  # Output: [5, 6, 7, 1, 2, 3, 4]\n"
   ]
  },
  {
   "cell_type": "code",
   "execution_count": null,
   "id": "4c6bede5-650b-4e75-8477-60b299a149ce",
   "metadata": {},
   "outputs": [],
   "source": [
    "3. Reverse the given array in-place:"
   ]
  },
  {
   "cell_type": "code",
   "execution_count": null,
   "id": "ba837b72-95c2-47ba-bb1d-ccd4dc505d3a",
   "metadata": {},
   "outputs": [],
   "source": [
    "def reverse_in_place(arr):\n",
    "    left, right = 0, len(arr) - 1\n",
    "    while left < right:\n",
    "        arr[left], arr[right] = arr[right], arr[left]\n",
    "        left += 1\n",
    "        right -= 1\n",
    "\n",
    "arr = [2, 4, 5, 7, 9, 12]\n",
    "reverse_in_place(arr)\n",
    "print(arr)  # Output: [12, 9, 7, 5, 4, 2]\n"
   ]
  },
  {
   "cell_type": "code",
   "execution_count": null,
   "id": "e6719fe3-8521-47c6-9eca-b49f319de56c",
   "metadata": {},
   "outputs": [],
   "source": [
    "4. Find the maximum element in the array:"
   ]
  },
  {
   "cell_type": "code",
   "execution_count": null,
   "id": "cfcc4840-9dab-46e1-a31d-09f3347863c4",
   "metadata": {},
   "outputs": [],
   "source": [
    "def find_max(arr):\n",
    "    return max(arr)\n",
    "\n",
    "arr = [10, 5, 20, 8, 15]\n",
    "print(find_max(arr))  # Output: 20\n"
   ]
  },
  {
   "cell_type": "code",
   "execution_count": null,
   "id": "84b046b4-f0cb-4473-8ccf-01896667c20d",
   "metadata": {},
   "outputs": [],
   "source": [
    "5. Remove duplicate elements from a sorted array without using extra data structure:"
   ]
  },
  {
   "cell_type": "code",
   "execution_count": null,
   "id": "bcf463e3-b1d0-455b-85a6-229065514798",
   "metadata": {},
   "outputs": [],
   "source": [
    "def remove_duplicates(arr):\n",
    "    if not arr:\n",
    "        return arr\n",
    "    \n",
    "    # Start from the first index\n",
    "    write_index = 1\n",
    "    \n",
    "    for i in range(1, len(arr)):\n",
    "        if arr[i] != arr[i - 1]:\n",
    "            arr[write_index] = arr[i]\n",
    "            write_index += 1\n",
    "    \n",
    "    return arr[:write_index]\n",
    "\n",
    "arr = [1, 1, 2, 2, 2, 3, 3, 4, 4, 4, 5, 5]\n",
    "print(remove_duplicates(arr))  # Output: [1, 2, 3, 4, 5]\n"
   ]
  },
  {
   "cell_type": "code",
   "execution_count": null,
   "id": "0b0c6865-148f-45c4-b749-04f3ef680205",
   "metadata": {},
   "outputs": [],
   "source": []
  }
 ],
 "metadata": {
  "kernelspec": {
   "display_name": "Python 3 (ipykernel)",
   "language": "python",
   "name": "python3"
  },
  "language_info": {
   "codemirror_mode": {
    "name": "ipython",
    "version": 3
   },
   "file_extension": ".py",
   "mimetype": "text/x-python",
   "name": "python",
   "nbconvert_exporter": "python",
   "pygments_lexer": "ipython3",
   "version": "3.10.8"
  }
 },
 "nbformat": 4,
 "nbformat_minor": 5
}
